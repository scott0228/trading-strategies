{
 "cells": [
  {
   "cell_type": "markdown",
   "id": "577dd91d-778c-40c3-9b29-dcd18a1fe716",
   "metadata": {},
   "source": [
    "# **富邦新一代API - Python範例程式碼**"
   ]
  },
  {
   "cell_type": "markdown",
   "id": "1ba16873-3a63-4abc-b977-444048c1b43c",
   "metadata": {},
   "source": [
    "# 安裝"
   ]
  },
  {
   "cell_type": "markdown",
   "id": "caa5740d-46d4-4845-83fb-759116b36c95",
   "metadata": {
    "tags": []
   },
   "source": [
    "## 若已安裝過 SDK，可**忽略**此部分"
   ]
  },
  {
   "cell_type": "markdown",
   "id": "56a6dfab-c332-461b-94cc-3d61fc816a38",
   "metadata": {},
   "source": [
    "### 安裝新一代API Python SDK\n",
    "此範例使用Windows版本檔案 <br>\n",
    "***註:*** SDK檔案名稱 (ex. fubon_neo-1.0.3-cp37-abi3-win_amd64.whl) 請根據實際下載.whl名稱修改 <br>\n",
    "***註2:*** SDK檔案需與本jupyter notebook檔案至於同一資料夾內，或是修改以下指令之SDK檔案路徑"
   ]
  },
  {
   "cell_type": "code",
   "execution_count": null,
   "id": "d4f1146c-7532-4f54-9c1b-0d7d95fc4e99",
   "metadata": {
    "scrolled": true
   },
   "outputs": [],
   "source": [
    "# Pip install SDK\n",
    "!pip install --force-reinstall --no-cache fubon_neo-1.0.3-cp37-abi3-win_amd64.whl"
   ]
  },
  {
   "cell_type": "markdown",
   "id": "d510c5aa-566d-4510-a09a-b332f834e026",
   "metadata": {},
   "source": [
    "# SDK 版本檢視"
   ]
  },
  {
   "cell_type": "code",
   "execution_count": null,
   "id": "fa29cddf-bef8-4661-9968-9adce5b12504",
   "metadata": {},
   "outputs": [],
   "source": [
    "import fubon_neo"
   ]
  },
  {
   "cell_type": "code",
   "execution_count": null,
   "id": "cf7103fe-f52e-481a-aba2-838e491e8def",
   "metadata": {},
   "outputs": [],
   "source": [
    "fubon_neo.__version__"
   ]
  },
  {
   "cell_type": "markdown",
   "id": "dea75f51-6a9c-42c5-9a50-71360e0c770d",
   "metadata": {},
   "source": [
    "# 準備"
   ]
  },
  {
   "cell_type": "code",
   "execution_count": null,
   "id": "dc1e496b",
   "metadata": {
    "scrolled": true
   },
   "outputs": [],
   "source": [
    " # 匯入 SDK Library\n",
    "from fubon_neo.sdk import FubonSDK, Order\n",
    "from fubon_neo.constant import TimeInForce, OrderType, PriceType, MarketType, BSAction"
   ]
  },
  {
   "cell_type": "code",
   "execution_count": null,
   "id": "c522db59-9ffa-42ba-bb83-a92364dc8308",
   "metadata": {},
   "outputs": [],
   "source": [
    "# 連結 API Server\n",
    "sdk = FubonSDK()"
   ]
  },
  {
   "cell_type": "markdown",
   "id": "5e0afd79-950b-4787-b3c0-21c87d6330ea",
   "metadata": {
    "tags": []
   },
   "source": [
    "## 登入"
   ]
  },
  {
   "cell_type": "code",
   "execution_count": null,
   "id": "9bd136f1-f514-4cb1-9dfa-6d2874aefb88",
   "metadata": {},
   "outputs": [],
   "source": [
    "accounts = sdk.login(\"H123oooooo\", \"oooooooo\", \"./H123oooooo.pfx\", \"oooooooo\")   # 登入帳號 輸入:帳號、密碼、憑證路徑、憑證密碼\n",
    "print(accounts)"
   ]
  },
  {
   "cell_type": "markdown",
   "id": "fc145f59-37d2-4cc4-8db7-c365c235a4c4",
   "metadata": {
    "jp-MarkdownHeadingCollapsed": true,
    "tags": []
   },
   "source": [
    "# 行情元件"
   ]
  },
  {
   "cell_type": "markdown",
   "id": "0153a787-a51d-4ab4-974f-c10827adfe18",
   "metadata": {},
   "source": [
    "## **建立行情元件連線**"
   ]
  },
  {
   "cell_type": "code",
   "execution_count": null,
   "id": "dd9f7618-843b-40f1-a59c-faffd834be84",
   "metadata": {},
   "outputs": [],
   "source": [
    "sdk.init_realtime() # 建立行情元件連線"
   ]
  },
  {
   "cell_type": "markdown",
   "id": "b727a01f-70ca-485d-ad93-3742c72f2248",
   "metadata": {
    "tags": []
   },
   "source": [
    "## 行情 WebSocket 報價"
   ]
  },
  {
   "cell_type": "markdown",
   "id": "bb54b560-91bf-4ea1-956c-891df7cc8534",
   "metadata": {},
   "source": [
    "### WebSocket callback functions 設定"
   ]
  },
  {
   "cell_type": "code",
   "execution_count": null,
   "id": "c860f49a",
   "metadata": {},
   "outputs": [],
   "source": [
    "import json\n",
    "import traceback\n",
    "\n",
    "subscribe_ids = []  # 訂閱頻道 id 列表\n",
    "\n",
    "def handle_connect():  # 連線成功 callback\n",
    "    print(\"行情連接成功\")\n",
    "\n",
    "def handle_disconnect(code, message):  # 連接斷線 callback\n",
    "    print(f\"行情連接斷線: {code}, {message}\")\n",
    "\n",
    "def handle_message(message): # 處理接收訊息 callback\n",
    "    try:\n",
    "        msg = json.loads(message)\n",
    "        event = msg[\"event\"]\n",
    "        data = msg[\"data\"]\n",
    "    \n",
    "        if event == \"pong\":\n",
    "            return\n",
    "        \n",
    "        if event == \"subscribed\":\n",
    "            id = data[\"id\"]\n",
    "            \n",
    "            if id in subscribe_ids:\n",
    "                print(f\"Error: 訂閱 id {id} 已存在列表中\")\n",
    "            else:\n",
    "                subscribe_ids.append(id)\n",
    "    \n",
    "        elif event == \"unsubscribed\":\n",
    "            id = data[\"id\"]\n",
    "            \n",
    "            try:\n",
    "                subscribe_ids.remove(id)\n",
    "            except:\n",
    "                print(f\"Error: 查無此筆訂閱 id 資料, id {id}\")\n",
    "    \n",
    "        print(f'market data message: {message}')           \n",
    "        \n",
    "    except Exception as e:\n",
    "        handle_error(f'Error parsing JSON: {e}', traceback.format_exc())\n",
    "\n",
    "def handle_error(error,traceback_info=None):  # 處理程式錯誤訊息 callback\n",
    "    print(f'market data error: {error}')\n",
    "    if traceback_info:\n",
    "        print(f'Traceback:\\n{traceback_info}')\n",
    "\n",
    "stock = sdk.marketdata.websocket_client.stock\n",
    "stock.on(\"connect\", handle_connect)\n",
    "stock.on(\"message\", handle_message)\n",
    "stock.on(\"disconnect\", handle_disconnect)\n",
    "stock.on(\"error\", handle_error)\n",
    "\n",
    "stock.connect()  # WebSocket 連線"
   ]
  },
  {
   "cell_type": "markdown",
   "id": "69db80eb-abc6-4b2a-9f43-09ff7cdfbc06",
   "metadata": {},
   "source": [
    "###### 訂閱商品資料"
   ]
  },
  {
   "cell_type": "code",
   "execution_count": null,
   "id": "68e66a3d",
   "metadata": {},
   "outputs": [],
   "source": [
    "# 訂閱股票最新成交資訊\n",
    "stock.subscribe({ \n",
    "        \"channel\": 'trades', \n",
    "        \"symbol\": '1101',\n",
    "        \"intradayOddLot\": True,\n",
    "        })"
   ]
  },
  {
   "cell_type": "code",
   "execution_count": null,
   "id": "b4f9bb87",
   "metadata": {
    "scrolled": true
   },
   "outputs": [],
   "source": [
    "# 訂閱股票最新最佳五檔委買委賣資訊\n",
    "stock.subscribe({ \n",
    "    'channel': 'books', \n",
    "    'symbol': '2330'\n",
    "})"
   ]
  },
  {
   "cell_type": "code",
   "execution_count": null,
   "id": "ba061802",
   "metadata": {},
   "outputs": [],
   "source": [
    "# 訂閱股票最新指數行情資料\n",
    "stock.subscribe({ \n",
    "    'channel': 'indices', \n",
    "    'symbol': 'IR0001'\n",
    "})"
   ]
  },
  {
   "cell_type": "code",
   "execution_count": null,
   "id": "7c9af698",
   "metadata": {},
   "outputs": [],
   "source": [
    "target_id = \"Dn90D2VM2McNXqzJx9gpsz5q8A460Qu2MA\"  #欲取消訂閱之頻道編號(id)\n",
    "\n",
    "result = stock.unsubscribe(\n",
    "        {\n",
    "          \"id\": target_id\n",
    "        }\n",
    ")"
   ]
  },
  {
   "cell_type": "markdown",
   "id": "028e7d68-3771-482d-97df-7a8bd9cbfe92",
   "metadata": {},
   "source": [
    "### 斷開 WebSocket 連線"
   ]
  },
  {
   "cell_type": "code",
   "execution_count": null,
   "id": "8cabf594",
   "metadata": {},
   "outputs": [],
   "source": [
    "stock.disconnect()"
   ]
  },
  {
   "cell_type": "markdown",
   "id": "8e3b8caf-b2c9-4f3f-aab5-862f191953fc",
   "metadata": {
    "tags": []
   },
   "source": [
    "## 行情 WebAPI 查詢"
   ]
  },
  {
   "cell_type": "code",
   "execution_count": null,
   "id": "b3f284cc-7db2-43e3-87cd-72ee5780398c",
   "metadata": {},
   "outputs": [],
   "source": [
    "# 建立行情查詢 WebAPI 連線 Object Instance\n",
    "restStock = sdk.marketdata.rest_client.stock  "
   ]
  },
  {
   "cell_type": "markdown",
   "id": "9cde4cd9-fdfc-42c0-b691-95e3c0e46e00",
   "metadata": {},
   "source": [
    "### 日內行情"
   ]
  },
  {
   "cell_type": "code",
   "execution_count": null,
   "id": "43aaf226",
   "metadata": {},
   "outputs": [],
   "source": [
    "# 股票或指數列表（依條件查詢）\n",
    "result = restStock.intraday.tickers(type='EQUITY', exchange=\"TWSE\", market=\"TSE\")\n",
    "stock_list = [\"8467\", \"9103\", \"2330\"]  # 抽樣查詢之股票 symbols\n",
    "\n",
    "print(f\"資料長度: {len(result['data'])}\\n\")\n",
    "\n",
    "for ticker in result[\"data\"]:\n",
    "    if ticker[\"symbol\"] in stock_list:\n",
    "        print(ticker)"
   ]
  },
  {
   "cell_type": "code",
   "execution_count": null,
   "id": "ec070e7a",
   "metadata": {},
   "outputs": [],
   "source": [
    "# 取得股票資訊 (依股票代碼查詢)\n",
    "result = restStock.intraday.ticker(symbol='2330')\n",
    "print(result)"
   ]
  },
  {
   "cell_type": "code",
   "execution_count": null,
   "id": "e45f4aa6",
   "metadata": {},
   "outputs": [],
   "source": [
    "# 股票即時報價（依代碼查詢）\n",
    "result = restStock.intraday.quote(symbol=\"2330\")\n",
    "print(result)"
   ]
  },
  {
   "cell_type": "code",
   "execution_count": null,
   "id": "80a245c5",
   "metadata": {
    "scrolled": true
   },
   "outputs": [],
   "source": [
    "# 股票價格Ｋ線（依代碼查詢）\n",
    "result = restStock.intraday.candles(symbol='2330', timeframe=5)\n",
    "print(result)"
   ]
  },
  {
   "cell_type": "code",
   "execution_count": null,
   "id": "8281fa99",
   "metadata": {
    "scrolled": true
   },
   "outputs": [],
   "source": [
    "# 股票成交明細（依代碼查詢）\n",
    "result = restStock.intraday.trades(symbol='2330')\n",
    "print(result)"
   ]
  },
  {
   "cell_type": "code",
   "execution_count": null,
   "id": "17e2d969",
   "metadata": {},
   "outputs": [],
   "source": [
    "# 股票分價量表（依代碼查詢）\n",
    "result = restStock.intraday.volumes(symbol='2330')\n",
    "print(result)"
   ]
  },
  {
   "cell_type": "markdown",
   "id": "a152745f-3ab8-4d12-bbdc-8b4cec434c70",
   "metadata": {},
   "source": [
    "### 行情快照"
   ]
  },
  {
   "cell_type": "code",
   "execution_count": null,
   "id": "8a5c2364",
   "metadata": {
    "scrolled": true
   },
   "outputs": [],
   "source": [
    "# 股票行情快照（依市場別）\n",
    "result = restStock.snapshot.quotes(market='TSE')\n",
    "print(result)"
   ]
  },
  {
   "cell_type": "code",
   "execution_count": null,
   "id": "246f32b9",
   "metadata": {
    "scrolled": true
   },
   "outputs": [],
   "source": [
    "# 股票漲跌幅排行（依市場別）\n",
    "result = restStock.snapshot.movers(market='TSE', direction='up', change='percent')\n",
    "print(result)"
   ]
  },
  {
   "cell_type": "code",
   "execution_count": null,
   "id": "ebd25cd7",
   "metadata": {
    "scrolled": true
   },
   "outputs": [],
   "source": [
    "# 股票成交量值排行（依市場別）\n",
    "result = restStock.snapshot.actives(market='TSE', trade='volume')\n",
    "print(result)"
   ]
  },
  {
   "cell_type": "markdown",
   "id": "2df4a4e6-c642-4cb5-b183-9f2687460610",
   "metadata": {},
   "source": [
    "### 歷史行情"
   ]
  },
  {
   "cell_type": "code",
   "execution_count": null,
   "id": "27b9c4b2",
   "metadata": {
    "scrolled": true
   },
   "outputs": [],
   "source": [
    "# 取得 1 年內歷史股價（依代碼查詢）\n",
    "# P.S. 目前分Ｋ無法指定開始日期（from） 與 結束日期（to），一律回傳近五日資料，並且無法選擇 turnover 與 change 的欄位\n",
    "result = restStock.historical.candles(**{\"symbol\": \"2330\", \"from\": \"2023-07-26\", \"to\": \"2024-01-30\"})\n",
    "print(result)"
   ]
  },
  {
   "cell_type": "code",
   "execution_count": null,
   "id": "93273863",
   "metadata": {},
   "outputs": [],
   "source": [
    "# 取得近 52 週股價數據（依代碼查詢）\n",
    "result = restStock.historical.stats(symbol=\"2330\")\n",
    "print(result)"
   ]
  },
  {
   "cell_type": "markdown",
   "id": "878c57ed-1936-4927-a497-12793f0da641",
   "metadata": {
    "jp-MarkdownHeadingCollapsed": true,
    "tags": []
   },
   "source": [
    "# 交易 (單筆)"
   ]
  },
  {
   "cell_type": "markdown",
   "id": "0a4a324c-9732-4d73-8a2d-a4c52e91120b",
   "metadata": {
    "tags": []
   },
   "source": [
    "### 建立委託單"
   ]
  },
  {
   "cell_type": "code",
   "execution_count": null,
   "id": "53a4543a",
   "metadata": {},
   "outputs": [],
   "source": [
    "# 定義訂單內容\n",
    "order = Order(\n",
    "    buy_sell = BSAction.Buy,\n",
    "    symbol = \"2330\",\n",
    "    price = None,\n",
    "    quantity = 1000, # 股數; 1000為一張\n",
    "    market_type = MarketType.Common,\n",
    "    price_type = PriceType.Reference,\n",
    "    time_in_force = TimeInForce.ROD,\n",
    "    order_type = OrderType.Stock,\n",
    "    user_def = None, # optional field\n",
    ");\n",
    "\n",
    "# 列印訂單內容\n",
    "print(order)"
   ]
  },
  {
   "cell_type": "code",
   "execution_count": null,
   "id": "76fb7221-7485-4bd4-bfd4-916ed4a45fed",
   "metadata": {},
   "outputs": [],
   "source": [
    "# 下單\n",
    "order_reponse = sdk.stock.place_order(accounts.data[0], order)\n",
    "print(order_reponse)"
   ]
  },
  {
   "cell_type": "markdown",
   "id": "3e9c16e4-cedb-4216-a765-cf77f0f7a1a8",
   "metadata": {
    "tags": []
   },
   "source": [
    "### 取得委託單結果"
   ]
  },
  {
   "cell_type": "code",
   "execution_count": null,
   "id": "428f9001-9b71-411a-85f0-305ca36af160",
   "metadata": {},
   "outputs": [],
   "source": [
    "result = sdk.stock.get_order_results(accounts.data[0])\n",
    "print(f\"筆數: {len(result.data)}\")\n",
    "i = 0\n",
    "for order_result in result.data:\n",
    "    print(f\"第 {i+1} 筆:\")\n",
    "    print(order_result, end=\"\\n\\n\")\n",
    "    i += 1"
   ]
  },
  {
   "cell_type": "markdown",
   "id": "3d033533-2fbf-4b10-9398-428e2a450510",
   "metadata": {
    "tags": []
   },
   "source": [
    "#### 使用範例：使用委託書或流水序號取得特定委託單物件"
   ]
  },
  {
   "cell_type": "code",
   "execution_count": null,
   "id": "b4c15525-0768-4d14-8c05-62781e50dd18",
   "metadata": {
    "scrolled": true
   },
   "outputs": [],
   "source": [
    "def get_order_by_no(orders, order_or_seq_no, use_order_no=True):\n",
    "    if orders.data is None:\n",
    "        print(f\"查無委託單資訊\")\n",
    "        return None\n",
    "\n",
    "    for order in orders.data:\n",
    "        if use_order_no:  # 以委託書號查詢\n",
    "            if order.order_no is not None and order.order_no == order_or_seq_no:\n",
    "                # print(f\"提取委託單: {order}\")\n",
    "                return order\n",
    "        else:  # 以委託單流水序號查詢\n",
    "            if order.seq_no is not None and order.seq_no == order_or_seq_no:\n",
    "                # print(f\"提取委託單: {order}\")\n",
    "                return order\n",
    "\n",
    "    # 查無委託單\n",
    "    field_name = \"委託書號\" if use_order_no else \"委託單流水序號\"\n",
    "    print(f\"{field_name} {order_or_seq_no} 查無委託單\")\n",
    "    return None\n",
    "\n",
    "# 使用範例 1: 以委託書號查詢\n",
    "orders = sdk.stock.get_order_results(accounts.data[0])  # 查詢所有委託單\n",
    "order = get_order_by_no(orders, \"x0003\", use_order_no=True)  # x0016 為目標委託書號\n",
    "print(f\"使用範例 1: 結果委託單 {order}\\n\")\n",
    "\n",
    "# # 使用範例 2: 以委託單流水序號查詢\n",
    "# orders = sdk.stock.get_order_results(accounts.data[0])  # 查詢所有委託單\n",
    "# order2 = get_order_by_no(orders, \"00000237234\", use_order_no=False)  # 00000237234 為目標委託單流水序號\n",
    "# print(f\"使用範例 2: 結果委託單 {order2}\")"
   ]
  },
  {
   "cell_type": "markdown",
   "id": "669fc3e2-1042-439f-9951-9ba2678a2366",
   "metadata": {
    "tags": []
   },
   "source": [
    "### 改價"
   ]
  },
  {
   "cell_type": "code",
   "execution_count": null,
   "id": "bd30bdec-42c1-44f1-8d51-3b6fd019ea28",
   "metadata": {
    "scrolled": true,
    "tags": []
   },
   "outputs": [],
   "source": [
    "# 使用範例：使用委託單號取得欲修改之委託單物件\n",
    "target_order = None\n",
    "target_order_number = \"l0001\"  # 欲查找之委託單號\n",
    "\n",
    "response = sdk.stock.get_order_results(accounts.data[0])\n",
    "\n",
    "if response.is_success:\n",
    "    for order in response.data:\n",
    "        if order.order_no == target_order_number:  # 取第一個狀態為成功的委託單為例\n",
    "            target_order = order\n",
    "\n",
    "    if target_order is not None:\n",
    "        print(target_order)\n",
    "    else:\n",
    "        print(f\"單號 {target_order_number}，查無委託單\")\n",
    "\n",
    "else:\n",
    "    print(\"查無資料\")\n",
    "    print(f\"response: {response}\")"
   ]
  },
  {
   "cell_type": "code",
   "execution_count": null,
   "id": "b99e005c-4138-42e1-9b47-ea46f2a18ede",
   "metadata": {
    "scrolled": true
   },
   "outputs": [],
   "source": [
    "# 單筆改價\n",
    "target_order = order\n",
    "modify_price_obj = sdk.stock.make_modify_price_obj(target_order, \"542\",)  # 改價\n",
    "response = sdk.stock.modify_price(accounts.data[0], modify_price_obj)  # 送出改價單\n",
    "\n",
    "# 印出回應\n",
    "# print(f\"目標委託單:\\n{target_order}\\n\")\n",
    "print(f\"修改回覆:\\n{response}\")"
   ]
  },
  {
   "cell_type": "markdown",
   "id": "8980f604-0d1f-4596-bf03-a8302bc7f675",
   "metadata": {
    "tags": []
   },
   "source": [
    "### 改量"
   ]
  },
  {
   "cell_type": "code",
   "execution_count": null,
   "id": "ccafd6de",
   "metadata": {
    "tags": []
   },
   "outputs": [],
   "source": [
    "#單筆改量\n",
    "target_order = order\n",
    "modify_quantity_obj = sdk.stock.make_modify_quantity_obj(target_order, 1000)  # 改量\n",
    "response = sdk.stock.modify_quantity(accounts.data[0], modify_quantity_obj)  # 送出改量單\n",
    "\n",
    "# 印出回應\n",
    "# print(f\"目標委託單:\\n{target_order}\\n\")\n",
    "print(f\"修改回覆:\\n{response}\")"
   ]
  },
  {
   "cell_type": "markdown",
   "id": "a4cdf911-b34a-4b67-a589-d96ee34abc51",
   "metadata": {
    "jp-MarkdownHeadingCollapsed": true,
    "tags": []
   },
   "source": [
    "#### 刪單"
   ]
  },
  {
   "cell_type": "code",
   "execution_count": null,
   "id": "23a66423-b486-43db-aed5-12f907ca244c",
   "metadata": {},
   "outputs": [],
   "source": [
    "# 函數: 刪單 by 單號\n",
    "def del_order(order_no, account):\n",
    "    if not isinstance(order_no, str):\n",
    "        print(f\"請輸入單號字串，例如\\\"x0001\\\"\")\n",
    "        return None\n",
    "\n",
    "    # 取得委託單 object\n",
    "    target_order = None\n",
    "    orders = sdk.stock.get_order_results(account)\n",
    "\n",
    "    for order in orders.data:\n",
    "        if order.order_no == order_no:\n",
    "            target_order = order\n",
    "\n",
    "    if target_order is None:\n",
    "        print(f\"查無目標委託單, 目標委託單號 {order_no}. 帳號:\\n{account}\")\n",
    "        return None\n",
    "    else:\n",
    "        response = sdk.stock.cancel_order(account, target_order)\n",
    "        print(f\"刪單回報:\\n{response}\\n\\n\")\n",
    "        return response\n",
    "\n",
    "# 刪單\n",
    "response = del_order(\"x0005\", accounts.data[0])  # 可修改單號及帳號\n",
    "\n",
    "if response is None:\n",
    "    print(\"刪單函數執行錯誤\")\n",
    "\n",
    "else:\n",
    "    target_order_number = response.data.order_no\n",
    "    # 取得新的委託單資訊\n",
    "    target_order = None\n",
    "    orders = sdk.stock.get_order_results(accounts.data[0])\n",
    "    for order in orders.data:\n",
    "        if order.order_no == target_order_number:\n",
    "            target_order = order\n",
    "            \n",
    "    if target_order is None:\n",
    "        print(f\"查無目標委託單。目標委託單號 {target_order_number}\")\n",
    "    else:\n",
    "        print(f\"新委託單資訊(單筆):\\n{target_order}\\n\\nstatus: {target_order.status}\")  # status 30 代表刪單成功"
   ]
  },
  {
   "cell_type": "markdown",
   "id": "4865b6ac-ea6d-40e7-bacc-dea82d518d7f",
   "metadata": {
    "tags": []
   },
   "source": [
    "### 查詢歷史委託"
   ]
  },
  {
   "cell_type": "code",
   "execution_count": null,
   "id": "55b3f868",
   "metadata": {
    "scrolled": true
   },
   "outputs": [],
   "source": [
    "# 歷史委託\n",
    "response = sdk.stock.order_history(accounts.data[0], \"20240313\", \"20240313\")  # 只供查詢兩日內之歷史資料\n",
    "\n",
    "if response.is_success:\n",
    "    \n",
    "    order_history = response.data\n",
    "    \n",
    "    print(f\"筆數: {len(order_history)}\\n\")\n",
    "\n",
    "    i = 0\n",
    "    for order_his in order_history:\n",
    "        i += 1\n",
    "        print(f\"第 {i} 筆:\\n{order_his}\\n\")\n",
    "        \n",
    "else:\n",
    "    print(\"查尋錯誤\")\n",
    "    print(f\"response: {response}\")"
   ]
  },
  {
   "cell_type": "markdown",
   "id": "595455a1-ec81-40f7-9a44-c5a45d534b55",
   "metadata": {
    "tags": []
   },
   "source": [
    "### 查詢歷史成交"
   ]
  },
  {
   "cell_type": "code",
   "execution_count": null,
   "id": "1a2447f3",
   "metadata": {},
   "outputs": [],
   "source": [
    "# 歷史成交\n",
    "result = sdk.stock.filled_history(accounts.data[0], \"20240313\", \"20240313\")  # 只供查詢兩日內之歷史資料\n",
    "print(result)"
   ]
  },
  {
   "cell_type": "markdown",
   "id": "6a56429b-2cde-4b32-ad14-988f91259eb2",
   "metadata": {
    "tags": []
   },
   "source": [
    "### 資券配額查詢"
   ]
  },
  {
   "cell_type": "code",
   "execution_count": null,
   "id": "27d4b068-bc06-4eef-8aca-6bcd1cf6487b",
   "metadata": {},
   "outputs": [],
   "source": [
    "# 資券配額查詢\n",
    "result = sdk.stock.margin_quota(accounts.data[0], \"2330\")\n",
    "print(result)"
   ]
  },
  {
   "cell_type": "markdown",
   "id": "ed17d7ae-429c-48ab-b5dd-32862cc61cde",
   "metadata": {
    "tags": []
   },
   "source": [
    "### 現冲券配額查詢"
   ]
  },
  {
   "cell_type": "code",
   "execution_count": null,
   "id": "c61fb8cf-094a-4c3a-b8ce-dafa0d6f3211",
   "metadata": {},
   "outputs": [],
   "source": [
    "# 現冲券配額查詢\n",
    "result = sdk.stock.daytrade_and_stock_info(accounts.data[0], \"2330\")\n",
    "print(result)"
   ]
  },
  {
   "cell_type": "markdown",
   "id": "d2b33dc2-f779-4761-b103-5f04c2b8c355",
   "metadata": {
    "jp-MarkdownHeadingCollapsed": true,
    "tags": []
   },
   "source": [
    "# 交易 (批次)"
   ]
  },
  {
   "cell_type": "markdown",
   "id": "2834077d-09cd-4afb-88d1-b96be5781627",
   "metadata": {
    "tags": []
   },
   "source": [
    "### 建立批次委託單"
   ]
  },
  {
   "cell_type": "code",
   "execution_count": null,
   "id": "883a77de-95f4-4798-91d1-5f384199300e",
   "metadata": {},
   "outputs": [],
   "source": [
    "# 建立欲委託清單\n",
    "orders = [\n",
    "  Order(\n",
    "    buy_sell = BSAction.Buy,\n",
    "    symbol = \"2881\",\n",
    "    price = None,\n",
    "    quantity = 2000,\n",
    "    market_type = MarketType.Common,\n",
    "    price_type = PriceType.LimitDown,\n",
    "    time_in_force = TimeInForce.ROD,\n",
    "    order_type = OrderType.Stock,\n",
    "    user_def = \"batch1\" # optional field\n",
    "), Order(\n",
    "    buy_sell = BSAction.Buy,\n",
    "    symbol = \"1101\",\n",
    "    price = None,\n",
    "    quantity = 1000,\n",
    "    market_type = MarketType.Common,\n",
    "    price_type = PriceType.LimitDown,\n",
    "    time_in_force = TimeInForce.ROD,\n",
    "    order_type = OrderType.Stock,\n",
    "    user_def = \"batch2\" # optional field\n",
    ") ]\n",
    "\n",
    "orders"
   ]
  },
  {
   "cell_type": "code",
   "execution_count": null,
   "id": "b45b6a66-aa5e-4a66-b636-526330e10489",
   "metadata": {
    "scrolled": true
   },
   "outputs": [],
   "source": [
    "# 建立批次委託單\n",
    "result = sdk.stock.batch_place_order(accounts.data[0], orders)\n",
    "print(result)"
   ]
  },
  {
   "cell_type": "markdown",
   "id": "bc21a7d2-8d38-4af6-b980-5b89ebabdcc4",
   "metadata": {
    "tags": []
   },
   "source": [
    "### 取得批次委託送單紀錄"
   ]
  },
  {
   "cell_type": "markdown",
   "id": "e0a80372-0705-4203-b50c-58c08527bda5",
   "metadata": {},
   "source": [
    "***註：*** 此僅為送單紀錄，無交易狀態更新"
   ]
  },
  {
   "cell_type": "code",
   "execution_count": null,
   "id": "7bc4fcdf-115a-452b-a946-1477e542779f",
   "metadata": {},
   "outputs": [],
   "source": [
    "# 取得批次委託列表\n",
    "result = sdk.stock.batch_order_lists(accounts.data[0])\n",
    "print(result)"
   ]
  },
  {
   "cell_type": "markdown",
   "id": "4491e9d0-e812-448a-8801-1de8c86e9571",
   "metadata": {
    "tags": []
   },
   "source": [
    "### 取得批次委託送單紀錄明細"
   ]
  },
  {
   "cell_type": "markdown",
   "id": "f81b7e5e-97db-4e13-bfaf-b6a1101c9311",
   "metadata": {},
   "source": [
    "***註：*** 此僅為送單紀錄，無交易狀態更新"
   ]
  },
  {
   "cell_type": "code",
   "execution_count": null,
   "id": "7e5852a8-1909-44fc-945b-575a1280822f",
   "metadata": {
    "scrolled": true
   },
   "outputs": [],
   "source": [
    "# 取得批次委託列表\n",
    "batch_list = sdk.stock.batch_order_lists(accounts.data[0])\n",
    "\n",
    "# 取得單筆批次委託明細\n",
    "target_batch_result = batch_list.data[0]  # 單筆批次委託結果\n",
    "result = sdk.stock.batch_order_detail(accounts.data[0], target_batch_result)\n",
    "\n",
    "print(result)"
   ]
  },
  {
   "cell_type": "markdown",
   "id": "6947e684-a301-484d-a5d9-5a16cf5f8c9c",
   "metadata": {
    "tags": []
   },
   "source": [
    "### 批次修改"
   ]
  },
  {
   "cell_type": "code",
   "execution_count": null,
   "id": "d0e7eb5f-a8d1-4bbb-9b60-07b54c57d037",
   "metadata": {},
   "outputs": [],
   "source": [
    "# 查詢委託單\n",
    "response = sdk.stock.get_order_results(accounts.data[0])\n",
    "\n",
    "# 取得此前批次下單(同Timestamp)成功之委託單\n",
    "result_orders = []\n",
    "\n",
    "if not response.is_success:\n",
    "    print(f\"委託單查詢失敗, 查詢結果:\\n{orders}\")\n",
    "\n",
    "else:  # 委託單查詢成功\n",
    "    for order in response.data:\n",
    "        if (order.user_def is not None) and (str(timestamp) in order.user_def):\n",
    "            result_orders.append(order)\n",
    "\n",
    "# 列印\n",
    "print(f\"取得委託單結果:\\n{result_orders}\")"
   ]
  },
  {
   "cell_type": "markdown",
   "id": "7c33cb24-1cf0-4a68-9a47-6d15ed21bfe1",
   "metadata": {
    "tags": []
   },
   "source": [
    "#### 批次修改委託價格"
   ]
  },
  {
   "cell_type": "code",
   "execution_count": null,
   "id": "23d04e4a-2500-4f22-a782-0339345d5227",
   "metadata": {},
   "outputs": [],
   "source": [
    "# 建立批次委託修改物件\n",
    "modify_objects = []\n",
    "\n",
    "for order in result_orders:\n",
    "    the_price = order.after_price\n",
    "\n",
    "    # 設定擬改價格 (自動設定預修改，僅為測試範例)\n",
    "    if (the_price * 100) % 10 > 0:\n",
    "        to_be_price = round(the_price + 0.05, 2)\n",
    "    elif (the_price * 10) % 10 > 0:\n",
    "        to_be_price = round(the_price + 0.1, 1)\n",
    "    else:\n",
    "        to_be_price = round(the_price + 1)\n",
    "\n",
    "    # 建立改價 obj\n",
    "    the_modify_price_obj = sdk.stock.make_modify_price_obj(order, str(to_be_price))\n",
    "    print(f\"委託單編號 {order.order_no}, 現價 {the_price}, 擬改價 {to_be_price}\")\n",
    "\n",
    "    # 放入批次列表\n",
    "    modify_objects.append(the_modify_price_obj)\n",
    "\n",
    "# 開始批次改價\n",
    "if len(modify_objects) > 0:\n",
    "    modified_results = sdk.stock.batch_modify_price(accounts.data[0], modify_objects)\n",
    "    \n",
    "    # 處理批次修改委託價格回傳結果\n",
    "    if modified_results.is_success:\n",
    "        print(\"修改成功\")\n",
    "        print(modified_results.data)\n",
    "    else:\n",
    "        print(\"修改失敗\", modified_results.message)\n",
    "\n",
    "else:\n",
    "    print(\"改價列表為空白\")"
   ]
  },
  {
   "cell_type": "markdown",
   "id": "e35cbc3f-7cb6-40da-971e-6f6092bcce62",
   "metadata": {
    "jp-MarkdownHeadingCollapsed": true,
    "tags": []
   },
   "source": [
    "#### 批次修改委託數量"
   ]
  },
  {
   "cell_type": "code",
   "execution_count": null,
   "id": "ae3d2076-078f-4c84-a8e6-5dd82b7dd87d",
   "metadata": {},
   "outputs": [],
   "source": [
    "# 查詢委託單\n",
    "response = sdk.stock.get_order_results(accounts.data[0])\n",
    "\n",
    "# 取得此前批次下單(同Timestamp)成功之委託單\n",
    "result_orders = []\n",
    "\n",
    "if not response.is_success:\n",
    "    print(f\"委託單查詢失敗, 查詢結果:\\n{orders}\")\n",
    "\n",
    "else:  # 委託單查詢成功\n",
    "    for order in response.data:\n",
    "        if (order.user_def is not None) and (str(timestamp) in order.user_def):\n",
    "            result_orders.append(order)\n",
    "\n",
    "# 列印\n",
    "print(f\"取得委託單結果:\\n{result_orders}\")"
   ]
  },
  {
   "cell_type": "code",
   "execution_count": null,
   "id": "58376016-c9bd-4c49-a53d-19e416f5a4b2",
   "metadata": {},
   "outputs": [],
   "source": [
    "# 建立批次委託修改物件\n",
    "modify_objects = []\n",
    "\n",
    "for order in result_orders:\n",
    "    the_qty = order.after_qty\n",
    "\n",
    "    if the_qty > 1000:\n",
    "        to_be_qty = the_qty - 1000\n",
    "        \n",
    "        # 建立改價 obj\n",
    "        the_modify_price_obj = sdk.stock.make_modify_quantity_obj(order, int(to_be_qty))\n",
    "        print(f\"委託單編號 {order.order_no}, 現量 {the_qty}, 擬改量 {to_be_qty}\")\n",
    "    \n",
    "        # 放入批次列表\n",
    "        modify_objects.append(the_modify_price_obj)\n",
    "\n",
    "    else:\n",
    "        print(f\"委託單編號 {order.order_no}, 現量 {the_price}, 現量不足，略過\")\n",
    "\n",
    "# 開始批次改量\n",
    "if len(modify_objects) > 0:\n",
    "    modified_results = sdk.stock.batch_modify_quantity(accounts.data[0], modify_objects)\n",
    "    \n",
    "    # 處理批次修改委託量回傳結果\n",
    "    if modified_results.is_success:\n",
    "        print(\"修改成功\")\n",
    "        print(modified_results.data)\n",
    "    else:\n",
    "        print(\"修改失敗\", modified_results.message)\n",
    "\n",
    "else:\n",
    "    print(\"改價列表為空白，出問題了!\")"
   ]
  },
  {
   "cell_type": "markdown",
   "id": "8c1de77d-6f56-4f16-b092-41af744ddef4",
   "metadata": {
    "tags": []
   },
   "source": [
    "#### 刪除批次委託單"
   ]
  },
  {
   "cell_type": "code",
   "execution_count": null,
   "id": "826c9e99-37a1-4b49-a2ef-f61bd8e95d69",
   "metadata": {},
   "outputs": [],
   "source": [
    "# 查詢委託單\n",
    "response = sdk.stock.get_order_results(accounts.data[0])\n",
    "\n",
    "# 取得此前批次下單(同Timestamp)成功之委託單\n",
    "result_orders = []\n",
    "\n",
    "if not response.is_success:\n",
    "    print(f\"委託單查詢失敗, 查詢結果:\\n{orders}\")\n",
    "\n",
    "else:  # 委託單查詢成功\n",
    "    for order in response.data:\n",
    "        if (order.user_def is not None) and (str(timestamp) in order.user_def):\n",
    "            result_orders.append(order)\n",
    "\n",
    "# 列印\n",
    "print(f\"取得委託單結果:\\n{result_orders}\")"
   ]
  },
  {
   "cell_type": "code",
   "execution_count": null,
   "id": "9ef4028e-925e-4bce-afce-d0bf6e1d4f60",
   "metadata": {},
   "outputs": [],
   "source": [
    "for order in result_orders:\n",
    "    print(f\"擬刪除之委託單編號 {order.order_no}\\n\")\n",
    "\n",
    "# 開始批次刪除\n",
    "if len(result_orders) > 0:\n",
    "    cancel_result = sdk.stock.batch_cancel_order(accounts.data[0], result_orders)\n",
    "    \n",
    "    # 處理批次刪除回傳結果\n",
    "    if cancel_result.is_success:\n",
    "        print(\"刪除成功\")\n",
    "        print(cancel_result.data)\n",
    "    else:\n",
    "        print(\"刪除失敗\", cancel_result.message)"
   ]
  },
  {
   "cell_type": "markdown",
   "id": "154c979c-6c4b-4e7e-a602-5a472543db9a",
   "metadata": {
    "jp-MarkdownHeadingCollapsed": true,
    "tags": []
   },
   "source": [
    "# 帳務"
   ]
  },
  {
   "cell_type": "code",
   "execution_count": null,
   "id": "0c166e3b-cdcd-492d-bbd1-be442b96647e",
   "metadata": {},
   "outputs": [],
   "source": [
    "# 顯示帳號資訊\n",
    "accounts.data[0]"
   ]
  },
  {
   "cell_type": "markdown",
   "id": "1d36bd14-2175-43e6-9677-c485e8886c2b",
   "metadata": {
    "tags": []
   },
   "source": [
    "### 庫存查詢"
   ]
  },
  {
   "cell_type": "code",
   "execution_count": null,
   "id": "cbe35ae8-4849-4a17-99bf-457bc222b15e",
   "metadata": {
    "scrolled": true
   },
   "outputs": [],
   "source": [
    "# 庫存查詢\n",
    "result = sdk.accounting.inventories(accounts.data[0])\n",
    "\n",
    "if result.is_success:\n",
    "    print(f\"資料筆數: {len(result.data)}\\n\")\n",
    "    i = 0\n",
    "    for inv in result.data:\n",
    "        i += 1\n",
    "        print(f\"第 {i} 筆\\n\")\n",
    "        print(f\"{inv}\\n\")\n",
    "        \n",
    "else:\n",
    "    print(\"查詢失敗\")\n",
    "    print(result)"
   ]
  },
  {
   "cell_type": "markdown",
   "id": "49cd1076-b293-4032-8c08-a5204d613e2e",
   "metadata": {
    "tags": []
   },
   "source": [
    "### 未實現損益"
   ]
  },
  {
   "cell_type": "code",
   "execution_count": null,
   "id": "73d842eb-5544-447d-87d0-d8f0f63d6596",
   "metadata": {
    "tags": []
   },
   "outputs": [],
   "source": [
    "# 未實現損益\n",
    "result = sdk.accounting.unrealized_gains_and_loses(accounts.data[0])\n",
    "print(result)"
   ]
  },
  {
   "cell_type": "markdown",
   "id": "d308ffda-1d28-473b-83d4-8402d19c285c",
   "metadata": {
    "tags": []
   },
   "source": [
    "### 已實現損益"
   ]
  },
  {
   "cell_type": "code",
   "execution_count": null,
   "id": "50d74ac0-e6f0-48dc-beaf-5a481ed87221",
   "metadata": {},
   "outputs": [],
   "source": [
    "# 已實現損益\n",
    "result = sdk.accounting.realized_gains_and_loses(accounts.data[0])\n",
    "print(result)"
   ]
  },
  {
   "cell_type": "markdown",
   "id": "9c0bad21-c075-4a5c-b041-150c858aea21",
   "metadata": {},
   "source": [
    "### 維持率查詢"
   ]
  },
  {
   "cell_type": "code",
   "execution_count": null,
   "id": "13ca8cdd-d871-4629-9fe2-121f754f7f94",
   "metadata": {
    "scrolled": true
   },
   "outputs": [],
   "source": [
    "# 維持率\n",
    "result = sdk.accounting.maintenance(accounts.data[0])\n",
    "print(result)"
   ]
  },
  {
   "cell_type": "markdown",
   "id": "9f94fdfa-b9a5-4b13-833e-c398b94eb853",
   "metadata": {},
   "source": [
    "### 交割款查詢"
   ]
  },
  {
   "cell_type": "code",
   "execution_count": null,
   "id": "688d07e0-6e38-433c-94ab-7343d1365405",
   "metadata": {
    "scrolled": true
   },
   "outputs": [],
   "source": [
    "# 交割款\n",
    "result = sdk.accounting.query_settlement(accounts.data[0],\"3d\")\n",
    "print(result)"
   ]
  },
  {
   "cell_type": "markdown",
   "id": "ea7dd084-622b-4ca8-bcc6-33ffb25386d1",
   "metadata": {},
   "source": [
    "### 銀行餘額查詢"
   ]
  },
  {
   "cell_type": "code",
   "execution_count": null,
   "id": "3928b7bf-0fbf-48ce-9c51-555c9f4e85b3",
   "metadata": {},
   "outputs": [],
   "source": [
    "# 銀行餘額\n",
    "result = sdk.accounting.bank_remain(accounts.data[0])\n",
    "print(result)"
   ]
  },
  {
   "cell_type": "markdown",
   "id": "58314799-8bb0-4760-8bb5-bce1ed24fc5b",
   "metadata": {
    "jp-MarkdownHeadingCollapsed": true,
    "tags": []
   },
   "source": [
    "# 交易/帳務 主動回報"
   ]
  },
  {
   "cell_type": "code",
   "execution_count": null,
   "id": "8e58dad4",
   "metadata": {},
   "outputs": [],
   "source": [
    "import time\n",
    "import os \n",
    "\n",
    "# A callback to receive quote data\n",
    "def on_order(err, content):\n",
    "    print(\"==下單主動回報==\")\n",
    "    print(f\"錯誤訊息 {err}\")\n",
    "    print(f\"內容 {content}\")\n",
    "    print(\"========\")\n",
    "    \n",
    "sdk.set_on_order(on_order) \n",
    "\n",
    "# A callback to receive quote data\n",
    "def on_order_changed(err, content):\n",
    "    print(\"==改單主動回報==\")\n",
    "    print(f\"錯誤訊息 {err}\")\n",
    "    print(f\"內容 {content}\")\n",
    "    print(\"========\")\n",
    "    \n",
    "sdk.set_on_order_changed(on_order_changed) \n",
    "\n",
    "def on_filled(err, content):\n",
    "    print(\"==成交主動回報==\")\n",
    "    print(f\"錯誤訊息 {err}\")\n",
    "    print(f\"內容 {content}\")\n",
    "    print(\"========\")\n",
    "    \n",
    "sdk.set_on_filled(on_filled)\n",
    "\n",
    "# A callback to receive quote data\n",
    "def on_event(err, content):\n",
    "    print(\"==事件主動回報==\")\n",
    "    print(f\"錯誤訊息 {err}\")\n",
    "    print(f\"內容 {content}\")\n",
    "    print(\"========\")\n",
    "    \n",
    "sdk.set_on_event(on_event) "
   ]
  }
 ],
 "metadata": {
  "kernelspec": {
   "display_name": "Python 3 (ipykernel)",
   "language": "python",
   "name": "python3"
  },
  "language_info": {
   "codemirror_mode": {
    "name": "ipython",
    "version": 3
   },
   "file_extension": ".py",
   "mimetype": "text/x-python",
   "name": "python",
   "nbconvert_exporter": "python",
   "pygments_lexer": "ipython3",
   "version": "3.11.8"
  }
 },
 "nbformat": 4,
 "nbformat_minor": 5
}
