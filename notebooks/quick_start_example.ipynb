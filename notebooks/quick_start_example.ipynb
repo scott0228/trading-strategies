{
 "cells": [
  {
   "cell_type": "markdown",
   "metadata": {},
   "source": [
    "# 交易策略回測 - 快速開始範例\n",
    "\n",
    "這個筆記本示範如何使用我們的交易策略回測框架。"
   ]
  },
  {
   "cell_type": "code",
   "execution_count": null,
   "metadata": {},
   "outputs": [],
   "source": [
    "# 導入必要的套件\n",
    "import sys\n",
    "import os\n",
    "sys.path.append('..')\n",
    "\n",
    "import pandas as pd\n",
    "import numpy as np\n",
    "import matplotlib.pyplot as plt\n",
    "\n",
    "from utils import fetch_data, plot_price_and_signals, print_strategy_summary\n",
    "from strategies.sma_crossover import SMAcrossoverStrategy\n",
    "from backtest_engine import BacktestEngine\n",
    "from config.config import DEFAULT_SYMBOLS, get_config"
   ]
  },
  {
   "cell_type": "markdown",
   "metadata": {},
   "source": [
    "## 1. 獲取市場資料"
   ]
  },
  {
   "cell_type": "code",
   "execution_count": null,
   "metadata": {},
   "outputs": [],
   "source": [
    "# 選擇要測試的股票\n",
    "symbol = 'AAPL'\n",
    "period = '2y'  # 2年的資料\n",
    "\n",
    "# 獲取資料\n",
    "print(f\"正在獲取 {symbol} 的資料...\")\n",
    "data = fetch_data(symbol, period=period)\n",
    "print(f\"獲取了 {len(data)} 筆資料\")\n",
    "data.head()"
   ]
  },
  {
   "cell_type": "markdown",
   "metadata": {},
   "source": [
    "## 2. 創建交易策略"
   ]
  },
  {
   "cell_type": "code",
   "execution_count": null,
   "metadata": {},
   "outputs": [],
   "source": [
    "# 創建簡單移動平均交叉策略\n",
    "strategy = SMAcrossoverStrategy(\n",
    "    name=\"SMA 20/50 交叉策略\",\n",
    "    short_window=20,  # 短期移動平均\n",
    "    long_window=50,   # 長期移動平均\n",
    "    initial_capital=100000  # 初始資金 10萬\n",
    ")\n",
    "\n",
    "print(f\"策略名稱: {strategy.name}\")\n",
    "print(f\"短期移動平均: {strategy.short_window} 天\")\n",
    "print(f\"長期移動平均: {strategy.long_window} 天\")\n",
    "print(f\"初始資金: ${strategy.initial_capital:,.2f}\")"
   ]
  },
  {
   "cell_type": "markdown",
   "metadata": {},
   "source": [
    "## 3. 運行回測"
   ]
  },
  {
   "cell_type": "code",
   "execution_count": null,
   "metadata": {},
   "outputs": [],
   "source": [
    "# 創建回測引擎\n",
    "backtest_config = get_config('backtest')\n",
    "engine = BacktestEngine(\n",
    "    initial_capital=backtest_config['initial_capital'],\n",
    "    commission=backtest_config['commission']\n",
    ")\n",
    "\n",
    "# 運行回測\n",
    "print(\"開始回測...\")\n",
    "result = engine.run_backtest(strategy, data, symbol)\n",
    "print(\"回測完成!\")"
   ]
  },
  {
   "cell_type": "markdown",
   "metadata": {},
   "source": [
    "## 4. 分析結果"
   ]
  },
  {
   "cell_type": "code",
   "execution_count": null,
   "metadata": {},
   "outputs": [],
   "source": [
    "# 顯示策略摘要\n",
    "performance = result['performance']\n",
    "print_strategy_summary(strategy.name, performance)"
   ]
  },
  {
   "cell_type": "code",
   "execution_count": null,
   "metadata": {},
   "outputs": [],
   "source": [
    "# 顯示交易記錄\n",
    "trades_df = pd.DataFrame(result['trades'])\n",
    "if not trades_df.empty:\n",
    "    print(f\"\\n總交易次數: {len(trades_df)}\")\n",
    "    print(\"\\n前10筆交易:\")\n",
    "    print(trades_df.head(10))\n",
    "else:\n",
    "    print(\"\\n沒有執行任何交易\")"
   ]
  },
  {
   "cell_type": "markdown",
   "metadata": {},
   "source": [
    "## 5. 視覺化分析"
   ]
  },
  {
   "cell_type": "code",
   "execution_count": null,
   "metadata": {},
   "outputs": [],
   "source": [
    "# 繪製價格和交易信號\n",
    "signals_data = result['signals_data']\n",
    "plot_price_and_signals(signals_data, f\"{strategy.name} - {symbol}\")"
   ]
  },
  {
   "cell_type": "code",
   "execution_count": null,
   "metadata": {},
   "outputs": [],
   "source": [
    "# 繪製投資組合價值變化\n",
    "portfolio_value = result['portfolio_value']\n",
    "if portfolio_value:\n",
    "    plt.figure(figsize=(12, 6))\n",
    "    \n",
    "    # 投資組合價值\n",
    "    portfolio_series = pd.Series(portfolio_value, index=data.index[:len(portfolio_value)])\n",
    "    plt.plot(portfolio_series.index, portfolio_series.values, label='投資組合價值', linewidth=2)\n",
    "    \n",
    "    # 買入持有策略比較\n",
    "    buy_hold_value = (data['Close'] / data['Close'].iloc[0]) * strategy.initial_capital\n",
    "    plt.plot(data.index, buy_hold_value, label='買入持有', linewidth=2, alpha=0.7)\n",
    "    \n",
    "    plt.title(f'{strategy.name} - 投資組合價值 vs 買入持有')\n",
    "    plt.xlabel('日期')\n",
    "    plt.ylabel('價值 ($)')\n",
    "    plt.legend()\n",
    "    plt.grid(True, alpha=0.3)\n",
    "    plt.show()\n",
    "    \n",
    "    # 計算買入持有的績效\n",
    "    buy_hold_return = (buy_hold_value.iloc[-1] / strategy.initial_capital) - 1\n",
    "    strategy_return = performance.get('total_return', 0)\n",
    "    \n",
    "    print(f\"\\n績效比較:\")\n",
    "    print(f\"策略總回報: {strategy_return:.2%}\")\n",
    "    print(f\"買入持有回報: {buy_hold_return:.2%}\")\n",
    "    print(f\"超額回報: {(strategy_return - buy_hold_return):.2%}\")"
   ]
  },
  {
   "cell_type": "markdown",
   "metadata": {},
   "source": [
    "## 6. 測試多個股票"
   ]
  },
  {
   "cell_type": "code",
   "execution_count": null,
   "metadata": {},
   "outputs": [],
   "source": [
    "# 測試多個熱門股票\n",
    "test_symbols = ['AAPL', 'GOOGL', 'MSFT', 'TSLA', 'SPY']\n",
    "\n",
    "print(\"正在測試多個股票...\")\n",
    "multi_results = {}\n",
    "\n",
    "for test_symbol in test_symbols:\n",
    "    print(f\"\\n測試 {test_symbol}...\")\n",
    "    \n",
    "    # 獲取資料\n",
    "    test_data = fetch_data(test_symbol, period='1y')\n",
    "    \n",
    "    if not test_data.empty:\n",
    "        # 創建新的策略實例\n",
    "        test_strategy = SMAcrossoverStrategy(\n",
    "            name=f\"SMA 20/50 - {test_symbol}\",\n",
    "            short_window=20,\n",
    "            long_window=50\n",
    "        )\n",
    "        \n",
    "        # 運行回測\n",
    "        test_result = engine.run_backtest(test_strategy, test_data, test_symbol)\n",
    "        multi_results[test_symbol] = test_result['performance']\n",
    "        \n",
    "        # 顯示簡要結果\n",
    "        perf = test_result['performance']\n",
    "        total_return = perf.get('total_return', 0)\n",
    "        sharpe = perf.get('sharpe_ratio', 0)\n",
    "        print(f\"  總回報: {total_return:.2%}, 夏普比率: {sharpe:.3f}\")\n",
    "    else:\n",
    "        print(f\"  無法獲取 {test_symbol} 的資料\")"
   ]
  },
  {
   "cell_type": "code",
   "execution_count": null,
   "metadata": {},
   "outputs": [],
   "source": [
    "# 顯示多股票回測摘要\n",
    "if multi_results:\n",
    "    summary_data = []\n",
    "    for symbol, perf in multi_results.items():\n",
    "        summary_data.append({\n",
    "            '股票代碼': symbol,\n",
    "            '總回報 (%)': f\"{perf.get('total_return', 0):.2%}\",\n",
    "            '年化回報 (%)': f\"{perf.get('annualized_return', 0):.2%}\",\n",
    "            '波動率 (%)': f\"{perf.get('volatility', 0):.2%}\",\n",
    "            '夏普比率': f\"{perf.get('sharpe_ratio', 0):.3f}\",\n",
    "            '最大回撤 (%)': f\"{perf.get('max_drawdown', 0):.2%}\",\n",
    "            '交易次數': perf.get('total_trades', 0)\n",
    "        })\n",
    "    \n",
    "    summary_df = pd.DataFrame(summary_data)\n",
    "    print(\"\\n多股票回測摘要:\")\n",
    "    print(summary_df.to_string(index=False))"
   ]
  },
  {
   "cell_type": "markdown",
   "metadata": {},
   "source": [
    "## 總結\n",
    "\n",
    "這個範例展示了如何:\n",
    "\n",
    "1. **獲取市場資料** - 使用 Yahoo Finance API\n",
    "2. **創建交易策略** - 實現簡單移動平均交叉策略\n",
    "3. **執行回測** - 使用自建的回測引擎\n",
    "4. **分析結果** - 計算各種績效指標\n",
    "5. **視覺化** - 繪製價格、信號和投資組合價值\n",
    "6. **比較分析** - 測試多個股票的表現\n",
    "\n",
    "### 下一步可以做什麼:\n",
    "\n",
    "- 實現更多交易策略（RSI、MACD、布林通道等）\n",
    "- 加入風險管理（停損、停利）\n",
    "- 優化策略參數\n",
    "- 加入更多績效指標\n",
    "- 實現組合投資策略\n",
    "- 加入交易成本和滑價分析"
   ]
  }
 ],
 "metadata": {
  "kernelspec": {
   "display_name": "Python 3",
   "language": "python",
   "name": "python3"
  },
  "language_info": {
   "codemirror_mode": {
    "name": "ipython",
    "version": 3
   },
   "file_extension": ".py",
   "mimetype": "text/x-python",
   "name": "python",
   "nbconvert_exporter": "python",
   "pygments_lexer": "ipython3",
   "version": "3.11.13"
  }
 },
 "nbformat": 4,
 "nbformat_minor": 4
}