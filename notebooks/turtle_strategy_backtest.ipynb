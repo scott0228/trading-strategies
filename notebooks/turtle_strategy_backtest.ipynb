{
 "cells": [
  {
   "cell_type": "markdown",
   "metadata": {},
   "source": [
    "# 海龜交易策略回測範例\n",
    "\n",
    "這個筆記本示範如何使用我們的交易策略回測框架來測試海龜交易策略。"
   ]
  },
  {
   "cell_type": "code",
   "execution_count": null,
   "metadata": {},
   "outputs": [],
   "source": [
    "# 導入必要的套件\n",
    "import os\n",
    "import sys\n",
    "\n",
    "sys.path.append('..')\n",
    "\n",
    "import matplotlib.pyplot as plt\n",
    "import numpy as np\n",
    "import pandas as pd\n",
    "\n",
    "from backtest_engine import BacktestEngine\n",
    "from config.config import get_config\n",
    "from strategies.turtle_strategy import TurtleStrategy\n",
    "from utils import fetch_data, plot_price_and_signals, print_strategy_summary"
   ]
  },
  {
   "cell_type": "markdown",
   "metadata": {},
   "source": [
    "## 1. 獲取市場資料"
   ]
  },
  {
   "cell_type": "code",
   "execution_count": null,
   "metadata": {},
   "outputs": [],
   "source": [
    "# 選擇要測試的股票\n",
    "symbol = 'NVDA'\n",
    "period = '5y'  # 5年的資料\n",
    "\n",
    "# 獲取資料\n",
    "print(f\"正在獲取 {symbol} 的資料...\")\n",
    "data = fetch_data(symbol, period=period)\n",
    "print(f\"獲取了 {len(data)} 筆資料\")\n",
    "data.head()"
   ]
  },
  {
   "cell_type": "markdown",
   "metadata": {},
   "source": [
    "## 2. 創建交易策略"
   ]
  },
  {
   "cell_type": "code",
   "execution_count": null,
   "metadata": {},
   "outputs": [],
   "source": [
    "# 創建海龜交易策略\n",
    "strategy = TurtleStrategy(\n",
    "    name=\"海龜策略 (20/10)\",\n",
    "    entry_window=20,\n",
    "    exit_window=10,\n",
    "    initial_capital=100000\n",
    ")\n",
    "\n",
    "print(f\"策略名稱: {strategy.name}\")\n",
    "print(f\"進場窗口: {strategy.entry_window} 天\")\n",
    "print(f\"出場窗口: {strategy.exit_window} 天\")\n",
    "print(f\"初始資金: ${strategy.initial_capital:,.2f}\")"
   ]
  },
  {
   "cell_type": "markdown",
   "metadata": {},
   "source": [
    "## 3. 運行回測"
   ]
  },
  {
   "cell_type": "code",
   "execution_count": null,
   "metadata": {},
   "outputs": [],
   "source": [
    "# 創建回測引擎\n",
    "backtest_config = get_config('backtest')\n",
    "engine = BacktestEngine(\n",
    "    initial_capital=backtest_config['initial_capital'],\n",
    "    commission=backtest_config['commission']\n",
    ")\n",
    "\n",
    "# 運行回測\n",
    "print(\"開始回測...\")\n",
    "result = engine.run_backtest(strategy, data, symbol)\n",
    "print(\"回測完成!\")"
   ]
  },
  {
   "cell_type": "markdown",
   "metadata": {},
   "source": [
    "## 4. 分析結果"
   ]
  },
  {
   "cell_type": "code",
   "execution_count": null,
   "metadata": {},
   "outputs": [],
   "source": [
    "# 顯示策略摘要\n",
    "performance = result['performance']\n",
    "print_strategy_summary(strategy.name, performance)"
   ]
  },
  {
   "cell_type": "code",
   "execution_count": null,
   "metadata": {},
   "outputs": [],
   "source": [
    "# 顯示交易記錄並計算每次交易的損益\n",
    "trades_df = pd.DataFrame(result['trades'])\n",
    "if not trades_df.empty:\n",
    "    print(f\"總交易次數: {len(trades_df)}\")\n",
    "    \n",
    "    # 計算每次交易的損益率\n",
    "    trades_analysis = trades_df.copy()\n",
    "    trades_analysis['trade_type'] = trades_analysis['quantity'].apply(lambda x: 'BUY' if x > 0 else 'SELL')\n",
    "    \n",
    "    # 配對買賣交易計算損益\n",
    "    buy_trades = []\n",
    "    sell_trades = []\n",
    "    trade_pairs = []\n",
    "    \n",
    "    for i, trade in trades_analysis.iterrows():\n",
    "        if trade['quantity'] > 0:  # 買入\n",
    "            buy_trades.append({\n",
    "                'index': i,\n",
    "                'timestamp': trade['timestamp'],\n",
    "                'quantity': abs(trade['quantity']),\n",
    "                'price': trade['price'],\n",
    "                'value': abs(trade['value']),\n",
    "                'capital_after': trade['capital_after']\n",
    "            })\n",
    "        else:  # 賣出\n",
    "            sell_trades.append({\n",
    "                'index': i,\n",
    "                'timestamp': trade['timestamp'],\n",
    "                'quantity': abs(trade['quantity']),\n",
    "                'price': trade['price'],\n",
    "                'value': abs(trade['value']),\n",
    "                'capital_after': trade['capital_after']\n",
    "            })\n",
    "    \n",
    "    # 配對交易並計算損益\n",
    "    for i, sell in enumerate(sell_trades):\n",
    "        if i < len(buy_trades):\n",
    "            buy = buy_trades[i]\n",
    "            \n",
    "            # 計算這次交易的損益\n",
    "            buy_cost = buy['value']\n",
    "            sell_proceeds = sell['value']\n",
    "            profit_loss = sell_proceeds - buy_cost\n",
    "            profit_loss_pct = (profit_loss / buy_cost) * 100\n",
    "            \n",
    "            # 計算持有天數\n",
    "            holding_days = (sell['timestamp'] - buy['timestamp']).days\n",
    "            \n",
    "            trade_pairs.append({\n",
    "                'trade_no': i + 1,\n",
    "                'buy_date': buy['timestamp'].strftime('%Y-%m-%d'),\n",
    "                'sell_date': sell['timestamp'].strftime('%Y-%m-%d'),\n",
    "                'holding_days': holding_days,\n",
    "                'quantity': buy['quantity'],\n",
    "                'buy_price': buy['price'],\n",
    "                'sell_price': sell['price'],\n",
    "                'buy_cost': buy_cost,\n",
    "                'sell_proceeds': sell_proceeds,\n",
    "                'profit_loss': profit_loss,\n",
    "                'profit_loss_pct': profit_loss_pct,\n",
    "                'capital_after_buy': buy['capital_after'],\n",
    "                'capital_after_sell': sell['capital_after'],\n",
    "                'trade_result': 'WIN' if profit_loss > 0 else 'LOSS'\n",
    "            })\n",
    "    \n",
    "    # 顯示交易配對結果\n",
    "    if trade_pairs:\n",
    "        trade_pairs_df = pd.DataFrame(trade_pairs)\n",
    "        print(f\"\\n交易配對分析 (共 {len(trade_pairs)} 次完整交易):\")\n",
    "        print(\"=\" * 140)\n",
    "        \n",
    "        for _, trade in trade_pairs_df.iterrows():\n",
    "            print(f\"交易 #{trade['trade_no']:2d}: {trade['buy_date']} -> {trade['sell_date']} \"\n",
    "                  f\"({trade['holding_days']:3d}天) | \"\n",
    "                  f\"買入: ${trade['buy_price']:7.2f} | 賣出: ${trade['sell_price']:7.2f} | \"\n",
    "                  f\"損益: ${trade['profit_loss']:8.2f} ({trade['profit_loss_pct']:+6.2f}%) | \"\n",
    "                  f\"資金: ${trade['capital_after_buy']:9.2f} -> ${trade['capital_after_sell']:9.2f} | \"\n",
    "                  f\"{trade['trade_result']}\")\n",
    "        \n",
    "        # 統計結果\n",
    "        total_trades = len(trade_pairs_df)\n",
    "        winning_trades = len(trade_pairs_df[trade_pairs_df['profit_loss'] > 0])\n",
    "        losing_trades = len(trade_pairs_df[trade_pairs_df['profit_loss'] < 0])\n",
    "        win_rate = (winning_trades / total_trades) * 100\n",
    "        \n",
    "        total_profit = trade_pairs_df['profit_loss'].sum()\n",
    "        avg_profit = trade_pairs_df['profit_loss'].mean()\n",
    "        avg_holding_days = trade_pairs_df['holding_days'].mean()\n",
    "        \n",
    "        avg_win = trade_pairs_df[trade_pairs_df['profit_loss'] > 0]['profit_loss'].mean() if winning_trades > 0 else 0\n",
    "        avg_loss = trade_pairs_df[trade_pairs_df['profit_loss'] < 0]['profit_loss'].mean() if losing_trades > 0 else 0\n",
    "        \n",
    "        print(f\"\\n\" + \"=\" * 60)\n",
    "        print(f\"交易統計摘要:\")\n",
    "        print(f\"=\" * 60)\n",
    "        print(f\"總交易次數: {total_trades}\")\n",
    "        print(f\"獲利交易: {winning_trades} ({win_rate:.1f}%)\")\n",
    "        print(f\"虧損交易: {losing_trades} ({100-win_rate:.1f}%)\")\n",
    "        print(f\"總損益: ${total_profit:,.2f}\")\n",
    "        print(f\"平均損益: ${avg_profit:,.2f}\")\n",
    "        print(f\"平均持有天數: {avg_holding_days:.1f} 天\")\n",
    "        if winning_trades > 0:\n",
    "            print(f\"平均獲利: ${avg_win:,.2f}\")\n",
    "        if losing_trades > 0:\n",
    "            print(f\"平均虧損: ${avg_loss:,.2f}\")\n",
    "        if winning_trades > 0 and losing_trades > 0:\n",
    "            profit_factor = abs(avg_win * winning_trades / (avg_loss * losing_trades))\n",
    "            print(f\"獲利因子: {profit_factor:.2f}\")\n",
    "        \n",
    "        # 顯示最佳和最差交易\n",
    "        best_trade = trade_pairs_df.loc[trade_pairs_df['profit_loss'].idxmax()]\n",
    "        worst_trade = trade_pairs_df.loc[trade_pairs_df['profit_loss'].idxmin()]\n",
    "        \n",
    "        print(f\"\\n最佳交易: 交易#{best_trade['trade_no']} | ${best_trade['profit_loss']:,.2f} ({best_trade['profit_loss_pct']:+.2f}%)\")\n",
    "        print(f\"最差交易: 交易#{worst_trade['trade_no']} | ${worst_trade['profit_loss']:,.2f} ({worst_trade['profit_loss_pct']:+.2f}%)\")\n",
    "        \n",
    "        # 顯示資金變化\n",
    "        print(f\"\\n資金變化摘要:\")\n",
    "        initial_capital = trade_pairs_df['capital_after_buy'].iloc[0] + trade_pairs_df['buy_cost'].iloc[0]\n",
    "        final_capital = trade_pairs_df['capital_after_sell'].iloc[-1]\n",
    "        print(f\"初始資金: ${initial_capital:,.2f}\")\n",
    "        print(f\"最終資金: ${final_capital:,.2f}\")\n",
    "        print(f\"資金成長: ${final_capital - initial_capital:,.2f} ({((final_capital/initial_capital) - 1)*100:.2f}%)\")\n",
    "    \n",
    "    print(f\"\\n原始交易記錄 (前10筆):\")\n",
    "    print(trades_df.head(10))\n",
    "else:\n",
    "    print(\"沒有執行任何交易\")"
   ]
  },
  {
   "cell_type": "markdown",
   "metadata": {},
   "source": [
    "## 5. 視覺化分析"
   ]
  },
  {
   "cell_type": "code",
   "execution_count": null,
   "metadata": {},
   "outputs": [],
   "source": [
    "# 繪製價格和交易信號\n",
    "signals_data = result['signals_data']\n",
    "plot_price_and_signals(signals_data, f\"{strategy.name} - {symbol}\")"
   ]
  },
  {
   "cell_type": "code",
   "execution_count": null,
   "metadata": {},
   "outputs": [],
   "source": [
    "# 繪製投資組合價值變化\n",
    "portfolio_value = result['portfolio_value']\n",
    "if portfolio_value:\n",
    "    plt.figure(figsize=(12, 6))\n",
    "    \n",
    "    # 投資組合價值\n",
    "    portfolio_series = pd.Series(portfolio_value, index=data.index[:len(portfolio_value)])\n",
    "    plt.plot(portfolio_series.index, portfolio_series.values, label='投資組合價值', linewidth=2)\n",
    "    \n",
    "    # 買入持有策略比較\n",
    "    buy_hold_value = (data['Close'] / data['Close'].iloc[0]) * strategy.initial_capital\n",
    "    plt.plot(data.index, buy_hold_value, label='買入持有', linewidth=2, alpha=0.7)\n",
    "    \n",
    "    plt.title(f'{strategy.name} - 投資組合價值 vs 買入持有')\n",
    "    plt.xlabel('日期')\n",
    "    plt.ylabel('價值 ($)')\n",
    "    plt.legend()\n",
    "    plt.grid(True, alpha=0.3)\n",
    "    plt.show()\n",
    "    \n",
    "    # 計算買入持有的績效\n",
    "    buy_hold_return = (buy_hold_value.iloc[-1] / strategy.initial_capital) - 1\n",
    "    strategy_return = performance.get('total_return', 0)\n",
    "    \n",
    "    print(f\"績效比較:\")\n",
    "    print(f\"策略總回報: {strategy_return:.2%}\")\n",
    "    print(f\"買入持有回報: {buy_hold_return:.2%}\")\n",
    "    print(f\"超額回報: {(strategy_return - buy_hold_return):.2%}\")"
   ]
  }
 ],
 "metadata": {
  "kernelspec": {
   "display_name": "trading-strategies",
   "language": "python",
   "name": "python3"
  },
  "language_info": {
   "codemirror_mode": {
    "name": "ipython",
    "version": 3
   },
   "file_extension": ".py",
   "mimetype": "text/x-python",
   "name": "python",
   "nbconvert_exporter": "python",
   "pygments_lexer": "ipython3",
   "version": "3.11.13"
  }
 },
 "nbformat": 4,
 "nbformat_minor": 4
}
