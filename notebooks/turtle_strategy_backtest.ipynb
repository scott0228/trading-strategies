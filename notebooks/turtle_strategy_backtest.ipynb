{
 "cells": [
  {
   "cell_type": "markdown",
   "metadata": {},
   "source": [
    "# 海龜交易策略回測範例\n",
    "\n",
    "這個筆記本示範如何使用我們的交易策略回測框架來測試海龜交易策略。"
   ]
  },
  {
   "cell_type": "code",
   "execution_count": null,
   "metadata": {},
   "outputs": [],
   "source": [
    "# 導入必要的套件\n",
    "import sys\n",
    "import os\n",
    "sys.path.append('..')\n",
    "\n",
    "import pandas as pd\n",
    "import numpy as np\n",
    "import matplotlib.pyplot as plt\n",
    "\n",
    "from utils import fetch_data, plot_price_and_signals, print_strategy_summary\n",
    "from strategies.turtle_strategy import TurtleStrategy\n",
    "from backtest_engine import BacktestEngine\n",
    "from config.config import get_config"
   ]
  },
  {
   "cell_type": "markdown",
   "metadata": {},
   "source": [
    "## 1. 獲取市場資料"
   ]
  },
  {
   "cell_type": "code",
   "execution_count": null,
   "metadata": {},
   "outputs": [],
   "source": [
    "# 選擇要測試的股票\n",
    "symbol = 'QQQ'\n",
    "period = '5y'  # 5年的資料\n",
    "\n",
    "# 獲取資料\n",
    "print(f\"正在獲取 {symbol} 的資料...\")\n",
    "data = fetch_data(symbol, period=period)\n",
    "print(f\"獲取了 {len(data)} 筆資料\")\n",
    "data.head()"
   ]
  },
  {
   "cell_type": "markdown",
   "metadata": {},
   "source": [
    "## 2. 創建交易策略"
   ]
  },
  {
   "cell_type": "code",
   "execution_count": null,
   "metadata": {},
   "outputs": [],
   "source": [
    "# 創建海龜交易策略\n",
    "strategy = TurtleStrategy(\n",
    "    name=\"海龜策略 (20/10)\",\n",
    "    entry_window=20,\n",
    "    exit_window=10,\n",
    "    initial_capital=100000\n",
    ")\n",
    "\n",
    "print(f\"策略名稱: {strategy.name}\")\n",
    "print(f\"進場窗口: {strategy.entry_window} 天\")\n",
    "print(f\"出場窗口: {strategy.exit_window} 天\")\n",
    "print(f\"初始資金: ${strategy.initial_capital:,.2f}\")"
   ]
  },
  {
   "cell_type": "markdown",
   "metadata": {},
   "source": [
    "## 3. 運行回測"
   ]
  },
  {
   "cell_type": "code",
   "execution_count": null,
   "metadata": {},
   "outputs": [],
   "source": [
    "# 創建回測引擎\n",
    "backtest_config = get_config('backtest')\n",
    "engine = BacktestEngine(\n",
    "    initial_capital=backtest_config['initial_capital'],\n",
    "    commission=backtest_config['commission']\n",
    ")\n",
    "\n",
    "# 運行回測\n",
    "print(\"開始回測...\")\n",
    "result = engine.run_backtest(strategy, data, symbol)\n",
    "print(\"回測完成!\")"
   ]
  },
  {
   "cell_type": "markdown",
   "metadata": {},
   "source": [
    "## 4. 分析結果"
   ]
  },
  {
   "cell_type": "code",
   "execution_count": null,
   "metadata": {},
   "outputs": [],
   "source": [
    "# 顯示策略摘要\n",
    "performance = result['performance']\n",
    "print_strategy_summary(strategy.name, performance)"
   ]
  },
  {
   "cell_type": "code",
   "execution_count": null,
   "metadata": {},
   "outputs": [],
   "source": [
    "# 顯示交易記錄\n",
    "trades_df = pd.DataFrame(result['trades'])\n",
    "if not trades_df.empty:\n",
    "    print(f\"\n總交易次數: {len(trades_df)}\")\n",
    "    print(\"\n前10筆交易:\")\n",
    "    print(trades_df.head(10))\n",
    "else:\n",
    "    print(\"\n沒有執行任何交易\")"
   ]
  },
  {
   "cell_type": "markdown",
   "metadata": {},
   "source": [
    "## 5. 視覺化分析"
   ]
  },
  {
   "cell_type": "code",
   "execution_count": null,
   "metadata": {},
   "outputs": [],
   "source": [
    "# 繪製價格和交易信號\n",
    "signals_data = result['signals_data']\n",
    "plot_price_and_signals(signals_data, f\"{strategy.name} - {symbol}\")"
   ]
  },
  {
   "cell_type": "code",
   "execution_count": null,
   "metadata": {},
   "outputs": [],
   "source": [
    "# 繪製投資組合價值變化\n",
    "portfolio_value = result['portfolio_value']\n",
    "if portfolio_value:\n",
    "    plt.figure(figsize=(12, 6))\n",
    "    \n",
    "    # 投資組合價值\n",
    "    portfolio_series = pd.Series(portfolio_value, index=data.index[:len(portfolio_value)])\n",
    "    plt.plot(portfolio_series.index, portfolio_series.values, label='投資組合價值', linewidth=2)\n",
    "    \n",
    "    # 買入持有策略比較\n",
    "    buy_hold_value = (data['Close'] / data['Close'].iloc[0]) * strategy.initial_capital\n",
    "    plt.plot(data.index, buy_hold_value, label='買入持有', linewidth=2, alpha=0.7)\n",
    "    \n",
    "    plt.title(f'{strategy.name} - 投資組合價值 vs 買入持有')\n",
    "    plt.xlabel('日期')\n",
    "    plt.ylabel('價值 ($)')\n",
    "    plt.legend()\n",
    "    plt.grid(True, alpha=0.3)\n",
    "    plt.show()\n",
    "    \n",
    "    # 計算買入持有的績效\n",
    "    buy_hold_return = (buy_hold_value.iloc[-1] / strategy.initial_capital) - 1\n",
    "    strategy_return = performance.get('total_return', 0)\n",
    "    \n",
    "    print(f\"\n績效比較:\")\n",
    "    print(f\"策略總回報: {strategy_return:.2%}\")\n",
    "    print(f\"買入持有回報: {buy_hold_return:.2%}\")\n",
    "    print(f\"超額回報: {(strategy_return - buy_hold_return):.2%}\")"
   ]
  }
 ],
 "metadata": {
  "kernelspec": {
   "display_name": "Python 3",
   "language": "python",
   "name": "python3"
  },
  "language_info": {
   "codemirror_mode": {
    "name": "ipython",
    "version": 3
   },
   "file_extension": ".py",
   "mimetype": "text/x-python",
   "name": "python",
   "nbconvert_exporter": "python",
   "pygments_lexer": "ipython3",
   "version": "3.11.13"
  }
 },
 "nbformat": 4,
 "nbformat_minor": 4
}