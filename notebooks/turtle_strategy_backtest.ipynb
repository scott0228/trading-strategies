{
 "cells": [
  {
   "cell_type": "markdown",
   "metadata": {},
   "source": [
    "# 海龜交易策略回測範例\n",
    "\n",
    "這個筆記本示範如何使用我們的交易策略回測框架來測試海龜交易策略。"
   ]
  },
  {
   "cell_type": "code",
   "execution_count": null,
   "metadata": {},
   "outputs": [],
   "source": [
    "# 導入必要的套件\n",
    "import os\n",
    "import sys\n",
    "\n",
    "sys.path.append('..')\n",
    "\n",
    "import matplotlib.pyplot as plt\n",
    "import numpy as np\n",
    "import pandas as pd\n",
    "\n",
    "from backtest_engine import BacktestEngine\n",
    "from config.config import get_config\n",
    "from strategies.turtle_strategy import TurtleStrategy\n",
    "from utils import fetch_data, plot_price_and_signals, print_strategy_summary"
   ]
  },
  {
   "cell_type": "markdown",
   "metadata": {},
   "source": [
    "## 1. 獲取市場資料"
   ]
  },
  {
   "cell_type": "code",
   "execution_count": null,
   "metadata": {},
   "outputs": [
    {
     "name": "stdout",
     "output_type": "stream",
     "text": [
      "正在獲取 QQQ 的資料...\n",
      "獲取了 1255 筆資料\n"
     ]
    },
    {
     "data": {
      "text/html": [
       "<div>\n",
       "<style scoped>\n",
       "    .dataframe tbody tr th:only-of-type {\n",
       "        vertical-align: middle;\n",
       "    }\n",
       "\n",
       "    .dataframe tbody tr th {\n",
       "        vertical-align: top;\n",
       "    }\n",
       "\n",
       "    .dataframe thead th {\n",
       "        text-align: right;\n",
       "    }\n",
       "</style>\n",
       "<table border=\"1\" class=\"dataframe\">\n",
       "  <thead>\n",
       "    <tr style=\"text-align: right;\">\n",
       "      <th></th>\n",
       "      <th>Open</th>\n",
       "      <th>High</th>\n",
       "      <th>Low</th>\n",
       "      <th>Close</th>\n",
       "      <th>Volume</th>\n",
       "      <th>Dividends</th>\n",
       "      <th>Stock Splits</th>\n",
       "      <th>Capital Gains</th>\n",
       "    </tr>\n",
       "    <tr>\n",
       "      <th>Date</th>\n",
       "      <th></th>\n",
       "      <th></th>\n",
       "      <th></th>\n",
       "      <th></th>\n",
       "      <th></th>\n",
       "      <th></th>\n",
       "      <th></th>\n",
       "      <th></th>\n",
       "    </tr>\n",
       "  </thead>\n",
       "  <tbody>\n",
       "    <tr>\n",
       "      <th>2020-08-27 00:00:00-04:00</th>\n",
       "      <td>284.486978</td>\n",
       "      <td>285.341502</td>\n",
       "      <td>280.350317</td>\n",
       "      <td>282.622559</td>\n",
       "      <td>49482700</td>\n",
       "      <td>0.0</td>\n",
       "      <td>0.0</td>\n",
       "      <td>0.0</td>\n",
       "    </tr>\n",
       "    <tr>\n",
       "      <th>2020-08-28 00:00:00-04:00</th>\n",
       "      <td>283.865502</td>\n",
       "      <td>284.690896</td>\n",
       "      <td>282.506045</td>\n",
       "      <td>284.059723</td>\n",
       "      <td>28021000</td>\n",
       "      <td>0.0</td>\n",
       "      <td>0.0</td>\n",
       "      <td>0.0</td>\n",
       "    </tr>\n",
       "    <tr>\n",
       "      <th>2020-08-31 00:00:00-04:00</th>\n",
       "      <td>284.584056</td>\n",
       "      <td>288.157493</td>\n",
       "      <td>284.147074</td>\n",
       "      <td>286.341644</td>\n",
       "      <td>36321000</td>\n",
       "      <td>0.0</td>\n",
       "      <td>0.0</td>\n",
       "      <td>0.0</td>\n",
       "    </tr>\n",
       "    <tr>\n",
       "      <th>2020-09-01 00:00:00-04:00</th>\n",
       "      <td>289.002328</td>\n",
       "      <td>291.352269</td>\n",
       "      <td>287.225329</td>\n",
       "      <td>291.235748</td>\n",
       "      <td>36216200</td>\n",
       "      <td>0.0</td>\n",
       "      <td>0.0</td>\n",
       "      <td>0.0</td>\n",
       "    </tr>\n",
       "    <tr>\n",
       "      <th>2020-09-02 00:00:00-04:00</th>\n",
       "      <td>294.498493</td>\n",
       "      <td>294.712125</td>\n",
       "      <td>288.293532</td>\n",
       "      <td>293.993561</td>\n",
       "      <td>50836800</td>\n",
       "      <td>0.0</td>\n",
       "      <td>0.0</td>\n",
       "      <td>0.0</td>\n",
       "    </tr>\n",
       "  </tbody>\n",
       "</table>\n",
       "</div>"
      ],
      "text/plain": [
       "                                 Open        High         Low       Close  \\\n",
       "Date                                                                        \n",
       "2020-08-27 00:00:00-04:00  284.486978  285.341502  280.350317  282.622559   \n",
       "2020-08-28 00:00:00-04:00  283.865502  284.690896  282.506045  284.059723   \n",
       "2020-08-31 00:00:00-04:00  284.584056  288.157493  284.147074  286.341644   \n",
       "2020-09-01 00:00:00-04:00  289.002328  291.352269  287.225329  291.235748   \n",
       "2020-09-02 00:00:00-04:00  294.498493  294.712125  288.293532  293.993561   \n",
       "\n",
       "                             Volume  Dividends  Stock Splits  Capital Gains  \n",
       "Date                                                                         \n",
       "2020-08-27 00:00:00-04:00  49482700        0.0           0.0            0.0  \n",
       "2020-08-28 00:00:00-04:00  28021000        0.0           0.0            0.0  \n",
       "2020-08-31 00:00:00-04:00  36321000        0.0           0.0            0.0  \n",
       "2020-09-01 00:00:00-04:00  36216200        0.0           0.0            0.0  \n",
       "2020-09-02 00:00:00-04:00  50836800        0.0           0.0            0.0  "
      ]
     },
     "execution_count": 2,
     "metadata": {},
     "output_type": "execute_result"
    }
   ],
   "source": [
    "# 選擇要測試的股票\n",
    "symbol = 'QQQ'\n",
    "period = '5y'  # 5年的資料\n",
    "\n",
    "# 獲取資料\n",
    "print(f\"正在獲取 {symbol} 的資料...\")\n",
    "data = fetch_data(symbol, period=period)\n",
    "print(f\"獲取了 {len(data)} 筆資料\")\n",
    "data.head()"
   ]
  },
  {
   "cell_type": "markdown",
   "metadata": {},
   "source": [
    "## 2. 創建交易策略"
   ]
  },
  {
   "cell_type": "code",
   "execution_count": null,
   "metadata": {},
   "outputs": [
    {
     "name": "stdout",
     "output_type": "stream",
     "text": [
      "策略名稱: 海龜策略 (20/10)\n",
      "進場窗口: 20 天\n",
      "出場窗口: 10 天\n",
      "初始資金: $100,000.00\n"
     ]
    }
   ],
   "source": [
    "# 創建海龜交易策略\n",
    "strategy = TurtleStrategy(\n",
    "    name=\"海龜策略 (20/10)\",\n",
    "    entry_window=20,\n",
    "    exit_window=10,\n",
    "    initial_capital=100000\n",
    ")\n",
    "\n",
    "print(f\"策略名稱: {strategy.name}\")\n",
    "print(f\"進場窗口: {strategy.entry_window} 天\")\n",
    "print(f\"出場窗口: {strategy.exit_window} 天\")\n",
    "print(f\"初始資金: ${strategy.initial_capital:,.2f}\")"
   ]
  },
  {
   "cell_type": "markdown",
   "metadata": {},
   "source": [
    "## 3. 運行回測"
   ]
  },
  {
   "cell_type": "code",
   "execution_count": null,
   "metadata": {},
   "outputs": [
    {
     "name": "stdout",
     "output_type": "stream",
     "text": [
      "開始回測...\n",
      "回測完成!\n"
     ]
    }
   ],
   "source": [
    "# 創建回測引擎\n",
    "backtest_config = get_config('backtest')\n",
    "engine = BacktestEngine(\n",
    "    initial_capital=backtest_config['initial_capital'],\n",
    "    commission=backtest_config['commission']\n",
    ")\n",
    "\n",
    "# 運行回測\n",
    "print(\"開始回測...\")\n",
    "result = engine.run_backtest(strategy, data, symbol)\n",
    "print(\"回測完成!\")"
   ]
  },
  {
   "cell_type": "markdown",
   "metadata": {},
   "source": [
    "## 4. 分析結果"
   ]
  },
  {
   "cell_type": "code",
   "execution_count": null,
   "metadata": {},
   "outputs": [
    {
     "name": "stdout",
     "output_type": "stream",
     "text": [
      "\n",
      "==================================================\n",
      "策略： 海龜策略 (20/10)\n",
      "==================================================\n",
      "總回報率： 1376.01%\n",
      "年化回報率： 71.69%\n",
      "波動率： 35.50%\n",
      "夏普比率： 2.020\n",
      "最大回撤： 1.69%\n",
      "總交易次數： 46\n",
      "==================================================\n",
      "\n",
      "==================================================\n",
      "Strategy: 海龜策略 (20/10)\n",
      "==================================================\n",
      "Total Return: 1376.01%\n",
      "Annualized Return: 71.69%\n",
      "Volatility: 35.50%\n",
      "Sharpe Ratio: 2.020\n",
      "Max Drawdown: 1.69%\n",
      "Total Trades: 46\n",
      "==================================================\n"
     ]
    }
   ],
   "source": [
    "# 顯示策略摘要\n",
    "performance = result['performance']\n",
    "print_strategy_summary(strategy.name, performance)"
   ]
  },
  {
   "cell_type": "code",
   "execution_count": null,
   "metadata": {},
   "outputs": [
    {
     "name": "stdout",
     "output_type": "stream",
     "text": [
      "總交易次數: 46\n",
      "前10筆交易:\n",
      "                  timestamp symbol  quantity       price         value  \\\n",
      "0 2020-10-09 00:00:00-04:00    QQQ       161  277.437195  44667.388367   \n",
      "1 2020-10-26 00:00:00-04:00    QQQ      -161  272.348938 -43848.179016   \n",
      "2 2020-12-01 00:00:00-05:00    QQQ       183  294.673218  53925.198853   \n",
      "3 2021-02-22 00:00:00-05:00    QQQ      -183  313.671143 -57401.819092   \n",
      "4 2021-04-01 00:00:00-04:00    QQQ       141  316.142090  44576.034668   \n",
      "5 2021-05-04 00:00:00-04:00    QQQ      -141  321.567444 -45341.009583   \n",
      "6 2021-06-08 00:00:00-04:00    QQQ       208  328.015533  68227.230957   \n",
      "7 2021-08-18 00:00:00-04:00    QQQ      -208  353.213959 -73468.503418   \n",
      "8 2021-08-23 00:00:00-04:00    QQQ       250  363.960266  90990.066528   \n",
      "9 2021-09-20 00:00:00-04:00    QQQ      -250  357.012634 -89253.158569   \n",
      "\n",
      "   capital_after  \n",
      "0   55332.611633  \n",
      "1   99180.790649  \n",
      "2   89059.922634  \n",
      "3  146461.741726  \n",
      "4  159230.124331  \n",
      "5  204571.133913  \n",
      "6  181639.571529  \n",
      "7  255108.074947  \n",
      "8  237513.043333  \n",
      "9  326766.201902  \n"
     ]
    }
   ],
   "source": [
    "# 顯示交易記錄\n",
    "trades_df = pd.DataFrame(result['trades'])\n",
    "if not trades_df.empty:\n",
    "    print(f\"總交易次數: {len(trades_df)}\")\n",
    "    print(\"前10筆交易:\")\n",
    "    print(trades_df.head(10))\n",
    "else:\n",
    "    print(\"沒有執行任何交易\")"
   ]
  },
  {
   "cell_type": "markdown",
   "metadata": {},
   "source": [
    "## 5. 視覺化分析"
   ]
  },
  {
   "cell_type": "code",
   "execution_count": null,
   "metadata": {},
   "outputs": [],
   "source": [
    "# 繪製價格和交易信號\n",
    "signals_data = result['signals_data']\n",
    "plot_price_and_signals(signals_data, f\"{strategy.name} - {symbol}\")"
   ]
  },
  {
   "cell_type": "code",
   "execution_count": null,
   "metadata": {},
   "outputs": [],
   "source": [
    "# 繪製投資組合價值變化\n",
    "portfolio_value = result['portfolio_value']\n",
    "if portfolio_value:\n",
    "    plt.figure(figsize=(12, 6))\n",
    "    \n",
    "    # 投資組合價值\n",
    "    portfolio_series = pd.Series(portfolio_value, index=data.index[:len(portfolio_value)])\n",
    "    plt.plot(portfolio_series.index, portfolio_series.values, label='投資組合價值', linewidth=2)\n",
    "    \n",
    "    # 買入持有策略比較\n",
    "    buy_hold_value = (data['Close'] / data['Close'].iloc[0]) * strategy.initial_capital\n",
    "    plt.plot(data.index, buy_hold_value, label='買入持有', linewidth=2, alpha=0.7)\n",
    "    \n",
    "    plt.title(f'{strategy.name} - 投資組合價值 vs 買入持有')\n",
    "    plt.xlabel('日期')\n",
    "    plt.ylabel('價值 ($)')\n",
    "    plt.legend()\n",
    "    plt.grid(True, alpha=0.3)\n",
    "    plt.show()\n",
    "    \n",
    "    # 計算買入持有的績效\n",
    "    buy_hold_return = (buy_hold_value.iloc[-1] / strategy.initial_capital) - 1\n",
    "    strategy_return = performance.get('total_return', 0)\n",
    "    \n",
    "    print(f\"績效比較:\")\n",
    "    print(f\"策略總回報: {strategy_return:.2%}\")\n",
    "    print(f\"買入持有回報: {buy_hold_return:.2%}\")\n",
    "    print(f\"超額回報: {(strategy_return - buy_hold_return):.2%}\")"
   ]
  }
 ],
 "metadata": {
  "kernelspec": {
   "display_name": "trading-strategies",
   "language": "python",
   "name": "python3"
  },
  "language_info": {
   "codemirror_mode": {
    "name": "ipython",
    "version": 3
   },
   "file_extension": ".py",
   "mimetype": "text/x-python",
   "name": "python",
   "nbconvert_exporter": "python",
   "pygments_lexer": "ipython3",
   "version": "3.11.13"
  }
 },
 "nbformat": 4,
 "nbformat_minor": 4
}
